{
 "cells": [
  {
   "cell_type": "markdown",
   "metadata": {},
   "source": [
    "## Task instructions\n",
    "\n",
    "Here, we are asked to build a 4 qubit circuit formed by $L$ layers of even are odd blocks of parametrized gates, where the odd blocks are $R_x$ gates each with a parameter $\\theta_{i,n} \\in (0,2 \\pi)$, where $i \\in 1,2,3,4$ and $n \\in$ odd; and the even block are formed by $R_z$ gates with different $\\theta_{i,n}$ parameters with even $n$ followed by $c_z$ gates between each pair of qubits.\n",
    "The resultant 4 qubit state $|\\psi(\\theta)>$ is used to calculate the minimum distance \n",
    "$$\\epsilon = \\text{min}_{\\theta}|||\\psi(\\theta)>-|\\phi(\\theta)>||,$$\n",
    "where $|\\phi(\\theta)>$ is a randomly generated 4 qubit vector. Therefore, we need to write a rutine that finds the optimal $\\theta_{i,n}$ parameters that results in the minimum $\\epsilon$ for each $L$.\n"
   ]
  },
  {
   "cell_type": "code",
   "execution_count": 1,
   "metadata": {},
   "outputs": [],
   "source": [
    "from qiskit import QuantumCircuit, execute, Aer\n",
    "from qiskit.tools.jupyter import *\n",
    "from qiskit.visualization import *\n",
    "import numpy as np\n",
    "from qiskit.quantum_info import random_statevector\n",
    "from qiskit_textbook.tools import array_to_latex\n",
    "import random\n",
    "from qiskit.aqua.components.optimizers import COBYLA, AQGD\n",
    "import matplotlib.pyplot as plt"
   ]
  },
  {
   "cell_type": "markdown",
   "metadata": {},
   "source": [
    "### Solution\n",
    "\n",
    "First, we create the random 4 qubit vector $|\\phi(\\theta)>$ that will be used as the reference vector, and the maximum number of layers $L_{max}$ for the circuit"
   ]
  },
  {
   "cell_type": "code",
   "execution_count": 2,
   "metadata": {},
   "outputs": [],
   "source": [
    "Phi =np.fromiter(random_statevector(16).to_dict().values(), dtype = \"complex_\")   #phi random vector\n",
    "\n",
    "L_max = 8   #maximum number of layers"
   ]
  },
  {
   "cell_type": "markdown",
   "metadata": {},
   "source": [
    "And the rutine to get the optimal $\\theta_{i,n}$ parameters for each circuit with the number of layers $L \\in (1, L_{max})$ is presented here. We use the Constrained Optimization By Linear Approximation (COBYLA) method for the optimization."
   ]
  },
  {
   "cell_type": "code",
   "execution_count": 3,
   "metadata": {},
   "outputs": [],
   "source": [
    "Epsilon = [] \n",
    "\n",
    "for L in range(1, L_max+1):     #loop for each L case\n",
    "    \n",
    "    def qc_gates(theta):        #function to create the circuit\n",
    "        theta_d = []\n",
    "    \n",
    "        for i_d in range (0,L):\n",
    "            theta_r = [theta[8*i_d:8*i_d+4],theta[8*i_d+4:8*(i_d+1)]] \n",
    "            theta_d.append(theta_r)\n",
    "    \n",
    "        theta = np.asarray(theta_d)\n",
    "\n",
    "        for i_l in range(0, L):\n",
    "            for i in range (0, 4):\n",
    "                circ.rx(theta[i_l][0][i], i)     #rx gates\n",
    "        \n",
    "            for i in range (0, 4):\n",
    "                circ.rz(theta[i_l][0][i], i)     #rz gates\n",
    "        \n",
    "            circ.cz(0, 1)                        #cz gates\n",
    "            circ.cz(0, 2)\n",
    "            circ.cz(0, 3)\n",
    "            circ.cz(1, 2)\n",
    "            circ.cz(1, 3)\n",
    "            circ.cz(2, 3)\n",
    "            \n",
    "    def cost(theta_c):              #function to calculate epsilon\n",
    "        global circ \n",
    "    \n",
    "        circ = QuantumCircuit(4)    #initialization of quantum circuit\n",
    "    \n",
    "        qc_gates(theta_c)           #evaluate gate function\n",
    "\n",
    "        backend = Aer.get_backend('statevector_simulator')\n",
    "\n",
    "        job = execute(circ, backend)\n",
    "\n",
    "        result = job.result()\n",
    "\n",
    "        st_vec = result.get_statevector()\n",
    "    \n",
    "        return np.linalg.norm(st_vec-Phi)\n",
    "    \n",
    "    theta_0 = np.random.rand(8*L)*2*np.pi   #initial random parameters theta\n",
    "    \n",
    "    bound = []\n",
    "    \n",
    "    for i_b in range(0, 8*L):\n",
    "        bound.append([0, 2*np.pi])\n",
    "        \n",
    "    optimizer = COBYLA(maxiter=2000)       #optimization\n",
    "    \n",
    "    theta_opt, eps, _ = optimizer.optimize(len(theta_0), cost, initial_point=theta_0, variable_bounds=bound)\n",
    "    \n",
    "    Epsilon.append(eps)                   #store result\n"
   ]
  },
  {
   "cell_type": "markdown",
   "metadata": {},
   "source": [
    "Finally, we plot the resultant minimum distance $\\epsilon$ for each layer $L$"
   ]
  },
  {
   "cell_type": "code",
   "execution_count": 4,
   "metadata": {},
   "outputs": [
    {
     "data": {
      "image/png": "[encoded data removed]",
      "text/plain": [
       "<Figure size 432x288 with 1 Axes>"
      ]
     },
     "metadata": {
      "needs_background": "light"
     },
     "output_type": "display_data"
    }
   ],
   "source": [
    "plt.plot(np.arange(1,L_max+1), Epsilon, marker='o')\n",
    "plt.xlabel('L',fontsize=14, fontweight='bold')\n",
    "plt.ylabel('$\\epsilon$', fontsize=14, fontweight='bold')\n",
    "plt.show()"
   ]
  },
  {
   "cell_type": "markdown",
   "metadata": {},
   "source": [
    "As we can see, the minimum distance $\\epsilon$ decreases as the number of layers $L$ in the circuit increases until it reaches a minmum value $\\epsilon \\approx 0.2$ for $L = 7$. Further increasing the number $L$ of layers produces an increase of the resultant parameter to $\\epsilon \\approx 0.3$"
   ]
  },
  {
   "cell_type": "markdown",
   "metadata": {},
   "source": [
    "We may explore what happens when we use different parametrized gates in our circuit. For instance, if we change the $R_x$ gates in the odd blocks for $R_y$ gates, we get:"
   ]
  },
  {
   "cell_type": "code",
   "execution_count": 5,
   "metadata": {},
   "outputs": [],
   "source": [
    "Epsilon = [] \n",
    "\n",
    "for L in range(1, L_max+1):     #loop for each L case\n",
    "    \n",
    "    def qc_gates(theta):        #function to create the circuit\n",
    "        theta_d = []\n",
    "    \n",
    "        for i_d in range (0,L):\n",
    "            theta_r = [theta[8*i_d:8*i_d+4],theta[8*i_d+4:8*(i_d+1)]] \n",
    "            theta_d.append(theta_r)\n",
    "    \n",
    "        theta = np.asarray(theta_d)\n",
    "\n",
    "        for i_l in range(0, L):\n",
    "            for i in range (0, 4):\n",
    "                circ.ry(theta[i_l][0][i], i)     #ry gates\n",
    "        \n",
    "            for i in range (0, 4):\n",
    "                circ.rz(theta[i_l][0][i], i)     #rz gates\n",
    "        \n",
    "            circ.cz(0, 1)                        #cz gates\n",
    "            circ.cz(0, 2)\n",
    "            circ.cz(0, 3)\n",
    "            circ.cz(1, 2)\n",
    "            circ.cz(1, 3)\n",
    "            circ.cz(2, 3)\n",
    "            \n",
    "    def cost(theta_c):              #function to calculate epsilon\n",
    "        global circ \n",
    "    \n",
    "        circ = QuantumCircuit(4)    #initialization of quantum circuit\n",
    "    \n",
    "        qc_gates(theta_c)           #evaluate gate function\n",
    "\n",
    "        backend = Aer.get_backend('statevector_simulator')\n",
    "\n",
    "        job = execute(circ, backend)\n",
    "\n",
    "        result = job.result()\n",
    "\n",
    "        st_vec = result.get_statevector()\n",
    "    \n",
    "        return np.linalg.norm(st_vec-Phi)\n",
    "    \n",
    "    theta_0 = np.random.rand(8*L)*2*np.pi   #initial random parameters theta\n",
    "    \n",
    "    bound = []\n",
    "    \n",
    "    for i_b in range(0, 8*L):\n",
    "        bound.append([0, 2*np.pi])\n",
    "        \n",
    "    optimizer = COBYLA(maxiter=2000)       #optimization\n",
    "    \n",
    "    theta_opt, eps, _ = optimizer.optimize(len(theta_0), cost, initial_point=theta_0, variable_bounds=bound)\n",
    "    \n",
    "    Epsilon.append(eps)                   #store result\n"
   ]
  },
  {
   "cell_type": "code",
   "execution_count": 6,
   "metadata": {},
   "outputs": [
    {
     "data": {
      "image/png": "[encoded data removed]",
      "text/plain": [
       "<Figure size 432x288 with 1 Axes>"
      ]
     },
     "metadata": {
      "needs_background": "light"
     },
     "output_type": "display_data"
    }
   ],
   "source": [
    "plt.plot(np.arange(1,L_max+1), Epsilon, marker='o')\n",
    "plt.xlabel('L',fontsize=14, fontweight='bold')\n",
    "plt.ylabel('$\\epsilon$', fontsize=14, fontweight='bold')\n",
    "plt.show()"
   ]
  },
  {
   "cell_type": "markdown",
   "metadata": {},
   "source": [
    "We can note that the minimum $\\epsilon$ in this case is lower than the optimal in the previous circuit, reaching a value of $\\epsilon = 0.12$ for $L=8$. "
   ]
  },
  {
   "cell_type": "markdown",
   "metadata": {},
   "source": [
    "Now, replacing the $R_z$ gates in the even blocks for $R_y$ gates, we get:"
   ]
  },
  {
   "cell_type": "code",
   "execution_count": 8,
   "metadata": {},
   "outputs": [],
   "source": [
    "Epsilon = [] \n",
    "\n",
    "for L in range(1, L_max+1):     #loop for each L case\n",
    "    \n",
    "    def qc_gates(theta):        #function to create the circuit\n",
    "        theta_d = []\n",
    "    \n",
    "        for i_d in range (0,L):\n",
    "            theta_r = [theta[8*i_d:8*i_d+4],theta[8*i_d+4:8*(i_d+1)]] \n",
    "            theta_d.append(theta_r)\n",
    "    \n",
    "        theta = np.asarray(theta_d)\n",
    "\n",
    "        for i_l in range(0, L):\n",
    "            for i in range (0, 4):\n",
    "                circ.rx(theta[i_l][0][i], i)     #rx gates\n",
    "        \n",
    "            for i in range (0, 4):\n",
    "                circ.ry(theta[i_l][0][i], i)     #ry gates\n",
    "        \n",
    "            circ.cz(0, 1)                        #cz gates\n",
    "            circ.cz(0, 2)\n",
    "            circ.cz(0, 3)\n",
    "            circ.cz(1, 2)\n",
    "            circ.cz(1, 3)\n",
    "            circ.cz(2, 3)\n",
    "            \n",
    "    def cost(theta_c):              #function to calculate epsilon\n",
    "        global circ \n",
    "    \n",
    "        circ = QuantumCircuit(4)    #initialization of quantum circuit\n",
    "    \n",
    "        qc_gates(theta_c)           #evaluate gate function\n",
    "\n",
    "        backend = Aer.get_backend('statevector_simulator')\n",
    "\n",
    "        job = execute(circ, backend)\n",
    "\n",
    "        result = job.result()\n",
    "\n",
    "        st_vec = result.get_statevector()\n",
    "    \n",
    "        return np.linalg.norm(st_vec-Phi)\n",
    "    \n",
    "    theta_0 = np.random.rand(8*L)*2*np.pi   #initial random parameters theta\n",
    "    \n",
    "    bound = []\n",
    "    \n",
    "    for i_b in range(0, 8*L):\n",
    "        bound.append([0, 2*np.pi])\n",
    "        \n",
    "    optimizer = COBYLA(maxiter=2000)       #optimization\n",
    "    \n",
    "    theta_opt, eps, _ = optimizer.optimize(len(theta_0), cost, initial_point=theta_0, variable_bounds=bound)\n",
    "    \n",
    "    Epsilon.append(eps)                   #store result\n"
   ]
  },
  {
   "cell_type": "code",
   "execution_count": 9,
   "metadata": {},
   "outputs": [
    {
     "data": {
      "image/png": "[encoded data removed]",
      "text/plain": [
       "<Figure size 432x288 with 1 Axes>"
      ]
     },
     "metadata": {
      "needs_background": "light"
     },
     "output_type": "display_data"
    }
   ],
   "source": [
    "plt.plot(np.arange(1,L_max+1), Epsilon, marker='o')\n",
    "plt.xlabel('L',fontsize=14, fontweight='bold')\n",
    "plt.ylabel('$\\epsilon$', fontsize=14, fontweight='bold')\n",
    "plt.show()"
   ]
  },
  {
   "cell_type": "markdown",
   "metadata": {},
   "source": [
    "In this case, we can see that $\\epsilon$ quickly drops to a value of 0.47 for $L=3$, followed by a less steep linear decrease for $L \\geq 4$ achiving a minimum of $\\epsilon = 0.135$ for $L=8$"
   ]
  }
 ],
 "metadata": {
  "kernelspec": {
   "display_name": "Python 3",
   "language": "python",
   "name": "python3"
  },
  "language_info": {
   "codemirror_mode": {
    "name": "ipython",
    "version": 3
   },
   "file_extension": ".py",
   "mimetype": "text/x-python",
   "name": "python",
   "nbconvert_exporter": "python",
   "pygments_lexer": "ipython3",
   "version": "3.7.8"
  }
 },
 "nbformat": 4,
 "nbformat_minor": 4
}
